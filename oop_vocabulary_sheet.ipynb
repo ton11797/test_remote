{
 "cells": [
  {
   "cell_type": "markdown",
   "metadata": {},
   "source": [
    "## Vocabulary\n",
    "* __Abstraction:__ Abstraction means hiding the complexity and only showing the essential features of the object. So in a way, Abstraction means hiding the real implementation and we, as a user, knowing only how to use it. Real world example would be a vehicle which we drive with out caring or knowing what all is going underneath.\n",
    "* __Class:__ A class is a code template for creating objects. Objects have member variables and have behaviour associated with them. In python a class is created by the keyword class. An object is created using the constructor of the class.\n",
    "* __Instantiate:__ To create an instance of a class, and to run its constructor method (`__init__`).\n",
    "* __Instance:__ Instance and object are used interchangeably.\n",
    "* __Attribute:__ An _instance_ attribute is a variable belonging to one, and only one, object. A _class_ attribute is a  variable that belongs to a class rather than a particular object.\n",
    "* __Method:__ A method is a function that belongs to an object.\n",
    "* __Constructor Method:__ A constructor is a special kind of method that Python calls when it instantiates an object using the definitions found in a class. Python relies on the constructor to perform tasks such as initializing (`__init__`), assigning values to, any instance variables that the object will need when it starts.\n",
    "* __State:__ State is a behavioral design pattern that allows an object to change the behavior when its internal state changes.\n",
    "* __\"self\":__ an object reference to the object itself. Python methods are not called in the context of the object itself. \"self\" may be used within instance methods to refer to attributes or other methods of the object."
   ]
  }
 ],
 "metadata": {
  "kernelspec": {
   "display_name": "Python 3",
   "language": "python",
   "name": "python3"
  },
  "language_info": {
   "codemirror_mode": {
    "name": "ipython",
    "version": 3
   },
   "file_extension": ".py",
   "mimetype": "text/x-python",
   "name": "python",
   "nbconvert_exporter": "python",
   "pygments_lexer": "ipython3",
   "version": "3.8.3"
  }
 },
 "nbformat": 4,
 "nbformat_minor": 4
}
