{
 "cells": [
  {
   "cell_type": "markdown",
   "metadata": {},
   "source": [
    "<img src=\"http://imgur.com/1ZcRyrc.png\" style=\"float: left; margin: 20px; height: 55px\">\n",
    "\n",
    "# Introduction to Object-Oriented Programming\n"
   ]
  },
  {
   "cell_type": "markdown",
   "metadata": {},
   "source": [
    "## OOP Vocabulary\n",
    "\n",
    "**Covered in this lesson:**\n",
    "* Class\n",
    "* Instance\n",
    "* Attribute\n",
    "* Method\n",
    "* Constructor method (`__init__`)\n",
    "* \"self\""
   ]
  },
  {
   "cell_type": "markdown",
   "metadata": {},
   "source": [
    "## Classes:\n",
    "- A class is a pre-defined structure that contains attributes and behaviors grouped together.<br/> \n",
    "- A class is the blueprint for an object. \n",
    "- Defined via a method call.\n",
    "- Contains an `__init__` method that takes in parameters to be assigned to an object. E.g., the Cat class; the List class."
   ]
  },
  {
   "cell_type": "markdown",
   "metadata": {},
   "source": [
    "## Part I: The Cat Class"
   ]
  },
  {
   "cell_type": "markdown",
   "metadata": {},
   "source": [
    "How do we make a cat template?\n",
    "\n",
    "What do we do first?\n",
    "\n",
    "Every class starts with the name of the Class, a simple docstring stating what this Class is, and an `__init__` method. \n",
    "\n",
    "- **`__init__`** is where we define the class’ variables\n",
    "- Short for “initialize”\n",
    "- Basically saying “Every time you make an object from this class, do what’s in here.”"
   ]
  },
  {
   "cell_type": "markdown",
   "metadata": {},
   "source": [
    "So what does \"self\" do?\n",
    "\n",
    "The first argument of every class method, including `__init__`, is always a reference to the current instance of the class. \n",
    "- By strongly agreed upon convention, this argument is always named self. \n",
    "- In the `__init__` method, `self` refers to the newly created object or instance.\n",
    "- In other class methods, `self` refers to the instance whose method was called.\n",
    "\n",
    "In some languages, `self` is set automatically instead of how it’s set explicitly by Python Programmers like you and I. Some advanced programmers wanted keyword status for “self” and for it to be set automatically in Python but the creator, Guido Van Rossum rejected that notion time and time again for a variety of (mostly complicated) reasons.\n",
    "\n",
    "#### Spare \"self\" notes:\n",
    "\n",
    "What is self?\n",
    "- self is a parameter in each method. It is a local variable!\n",
    "- self is a convention -- not a reserved word!\n",
    "- every method’s first parameter must be self and it refers to the \n",
    "instance we’re running on now\n",
    "- reduces ambiguity, makes scoping (LEGB) easier to implement and understand\n",
    "- When Python rewrites our method call, the instance becomes the first argument"
   ]
  },
  {
   "cell_type": "code",
   "execution_count": 3,
   "metadata": {},
   "outputs": [],
   "source": [
    "class Cat:\n",
    "    \n",
    "    # What is a docstring: A docstring is a comment that is placed at the top \n",
    "    # of a class (or function). When python precompiles the class or function \n",
    "    # (which happens in the background), it parses this comment and makes \n",
    "    # it available to the user as a helpfile when the class is accessed when \n",
    "    # typing the class or function, followed by a ? question mark.\n",
    "    \"\"\"Creates Cat class, possible child class of Animal\"\"\"\n"
   ]
  },
  {
   "cell_type": "code",
   "execution_count": 1,
   "metadata": {
    "scrolled": true
   },
   "outputs": [],
   "source": [
    "# print([x for x in dir(Cat) if x[0] == '_'])\n",
    "#[x for x in dir(Cat) if x[0] != '_']"
   ]
  },
  {
   "cell_type": "code",
   "execution_count": null,
   "metadata": {},
   "outputs": [],
   "source": [
    "# __dir__ represents your class attributes\n",
    "\n",
    "# __ge__ = greater than and equal to\n",
    "# __gt__ = greater than\n",
    "# __eq__ = equality\n",
    "# __ne__ = not equal\n",
    "# __reduce_ex__ address compatability when pickling\n",
    "# __hash__ helps to define behavior when hash() is used on a class"
   ]
  },
  {
   "cell_type": "code",
   "execution_count": null,
   "metadata": {},
   "outputs": [],
   "source": [
    "Cat.  # hit tab\n",
    "\n",
    "# What do we see??"
   ]
  },
  {
   "cell_type": "code",
   "execution_count": 2,
   "metadata": {},
   "outputs": [
    {
     "data": {
      "text/plain": [
       "[__main__.Cat, object]"
      ]
     },
     "execution_count": 2,
     "metadata": {},
     "output_type": "execute_result"
    }
   ],
   "source": [
    "Cat.mro()\n",
    "\n",
    "# Method Resolution Order (mro) is the order in which Python \n",
    "# looks for a method in a hierarchy of classes\n",
    "\n",
    "# Think inheritance\n",
    "\n",
    "# If searching for attribute, the search first occurs in the current class.\n",
    "# If not found, the search moves to parent class or parent classes."
   ]
  },
  {
   "cell_type": "code",
   "execution_count": 2,
   "metadata": {},
   "outputs": [],
   "source": [
    "# Instantiate a Cat named Cocoa\n",
    "# This creates an instance of the Cat class named Cocoa\n",
    "# Cocoa = Cat(\"Cocoa\", 10)\n",
    "# if Cat.total_cats == 1:\n",
    "#     print(\"There is\", Cat.total_cats, \"cat in this example!\")\n",
    "# else:\n",
    "#     print(\"There are\", Cat.total_cats, \"cats in this example!\")"
   ]
  },
  {
   "cell_type": "code",
   "execution_count": null,
   "metadata": {},
   "outputs": [],
   "source": [
    "# A new type of thing!\n",
    "type(Cocoa)"
   ]
  },
  {
   "cell_type": "code",
   "execution_count": null,
   "metadata": {},
   "outputs": [],
   "source": [
    "# This instance of Cat has attributes such as name and age\n",
    "print(Cocoa.name)\n",
    "print(Cocoa.age)\n",
    "\n",
    "# Remember the parameters \"name\" and \"age\" in the init?\n",
    "# def __init__(self, name=\"\", age=0)"
   ]
  },
  {
   "cell_type": "code",
   "execution_count": null,
   "metadata": {
    "scrolled": true
   },
   "outputs": [],
   "source": [
    "# Call a method such as `nap` on this instance of Cat\n",
    "Cocoa.nap()\n",
    "\n",
    "\n",
    "# Did nap have any parameters? Any defaults?"
   ]
  },
  {
   "cell_type": "code",
   "execution_count": null,
   "metadata": {},
   "outputs": [],
   "source": [
    "# See if Cocoa is hungry\n",
    "Cocoa.hungry"
   ]
  },
  {
   "cell_type": "code",
   "execution_count": null,
   "metadata": {
    "scrolled": true
   },
   "outputs": [],
   "source": [
    "# Another method. This one changes the state of the Cat\n",
    "Cocoa.eat()"
   ]
  },
  {
   "cell_type": "code",
   "execution_count": null,
   "metadata": {},
   "outputs": [],
   "source": [
    "# State has changed!\n",
    "Cocoa.hungry"
   ]
  },
  {
   "cell_type": "code",
   "execution_count": null,
   "metadata": {},
   "outputs": [],
   "source": [
    "# Again. The state of Cocoa has changed!\n",
    "Cocoa.feed()"
   ]
  },
  {
   "cell_type": "code",
   "execution_count": null,
   "metadata": {},
   "outputs": [],
   "source": [
    "# If I make a different Cat, it doesn't share state with Cocoa\n",
    "my_other_cat = Cat(\"Whiskers\", 12)"
   ]
  },
  {
   "cell_type": "code",
   "execution_count": null,
   "metadata": {},
   "outputs": [],
   "source": [
    "my_other_cat.hungry"
   ]
  },
  {
   "cell_type": "code",
   "execution_count": null,
   "metadata": {},
   "outputs": [],
   "source": [
    "my_other_cat.meow()"
   ]
  },
  {
   "cell_type": "code",
   "execution_count": null,
   "metadata": {},
   "outputs": [],
   "source": []
  },
  {
   "cell_type": "code",
   "execution_count": 7,
   "metadata": {},
   "outputs": [],
   "source": [
    "# If the Class is saved to a .py file (such as cat_blueprint.py) \n",
    "from cat_blueprint import Cat"
   ]
  },
  {
   "cell_type": "code",
   "execution_count": 8,
   "metadata": {},
   "outputs": [],
   "source": [
    "Cat?"
   ]
  },
  {
   "cell_type": "code",
   "execution_count": 3,
   "metadata": {},
   "outputs": [],
   "source": [
    "peaches = Cat(\"Peaches\", 5)"
   ]
  },
  {
   "cell_type": "code",
   "execution_count": 5,
   "metadata": {
    "scrolled": true
   },
   "outputs": [],
   "source": [
    "#peaches."
   ]
  },
  {
   "cell_type": "markdown",
   "metadata": {},
   "source": [
    "### When would we need this?\n",
    "Luckily for us, most of the classes we need have already been built for us. \n",
    "\n",
    "Consider the List class — every list you make has the same basic concept. \n",
    "\n",
    "Variables:\n",
    "- Elements: What’s in the list! E.g., `my_list = [element1, element2, element3]`. \n",
    "\n",
    "Methods that all lists have:\n",
    "- `my_list.append()`, `my_list.extend()`, `my_list.pop()`, `my.list.insert(index)`, etc."
   ]
  },
  {
   "cell_type": "markdown",
   "metadata": {},
   "source": [
    "### You'll also see this a LOT in Pandas\n",
    "\n",
    "- `df` is a common teaching variable name for a Pandas DataFrame. \n",
    "- When thinking of a Pandas DataFrame think Excel worksheet but more powerful\n",
    "\n",
    "Attributes:\n",
    "- `df.shape`\n",
    "- `df.columns`\n",
    "\n",
    "Methods or functions:\n",
    "- `df.head()`\n",
    "- `df.tail()`\n",
    "- `df.info()`\n",
    "\n",
    "Overiding default parameters in some methods/functions:\n",
    "\n",
    "Example: `df.head()` returns the first 5 rows by default, but you can override that default parameter. \n",
    "\n",
    "`df.head(20)` would return the first 20 rows instead of just the first five.\n"
   ]
  },
  {
   "cell_type": "markdown",
   "metadata": {},
   "source": [
    "### Some final thoughts on Classes\n",
    "\n",
    "As stated above, most of the classes we need have already been built for us.\n",
    "\n",
    "But Python programmers and data practitioners don't work in a vacuum! Here are some examples of times where building your own class is the right thing to do:\n",
    "\n",
    "#### Whenever you want to bundle your code into a package.\n",
    "It's true that you can define functions that can be imported, but that's not considered very _Pythonic_. True Pythonistas will build related tools into classes that can be shared amongst coworkers. **If you set this up properly, you can even have them available for installation via `pip install <your code>` from either a private or public Git repository!**\n",
    "\n",
    "#### When you want to avoid repeating functions over and over again.\n",
    "This is generally referred to as DRY (Don't Repeat Yourself). The DRY principle is a software development practice aimed at reducing repetition in code. \n",
    "\n",
    "#### Whenever you want to \"build once, run many times later.\n",
    "Imagine a potentially complicated task, such as connecting to a server and executing code on it. These tasks typically have a lot of rote boilerplate code that you'd want to automate. For example, check out this fantasy code you might write for connecting to a SQL server:\n",
    "\n",
    "```python\n",
    "conn = SQLServer(\"12.34.56.78\")\n",
    "conn.connect()\n",
    "conn.login(\"James\", \"p@ssw0rd1!\") <- My actual password \n",
    "conn.execute(\"SELECT name, age FROM users\")\n",
    "conn.close()\n",
    "```\n",
    "\n",
    "#### Unit Testing\n",
    "Most of Python's unit testing capabilities require you to build classes, where each method is an individual suite of tests.\n",
    "\n",
    "> **Unit testing** is a type of automated testing you can do to ensure that minor changes you make to your code don't fundamentally change what your code is doing.\n",
    "\n",
    "#### Sometimes you literally just _need_ to.\n",
    "There are actually a few data science packages that force you to build a class in order to use them properly. Specificaly these two:\n",
    "\n",
    "![](imgs/scrapy.png)\n",
    "![](imgs/pytorch.png)\n",
    "\n",
    "* **PyTorch** - A popular deep learning library. Second only in popularity to TensorFlow/Keras and gaining.\n",
    "* **Scrapy** - A heavy-duty webscraping library."
   ]
  },
  {
   "cell_type": "markdown",
   "metadata": {},
   "source": [
    "**Questions**:\n",
    "    \n",
    "1. What is a class?\n",
    "2. What does `__init__` do?\n",
    "3. What is an object?\n",
    "4. What is the purpose of self?\n",
    "5. Can you name the two types of variables?"
   ]
  },
  {
   "cell_type": "markdown",
   "metadata": {},
   "source": [
    "## Conclusions and Takeaways\n",
    "- We learned of Object Oriented Programming vocabulary and concepts such as...\n",
    "   * Class\n",
    "   * Instance\n",
    "   * Attribute\n",
    "   * Method\n",
    "   * Constructor method (`__init__`)\n",
    "   * \"self\"\n",
    "- That we've already worked with objects that are instances of classes and will continue to do so throughout the course.\n",
    "- We may not _need_ to build classes very often, but we do want to understand more about what's happening \"under the hood\" and well as know how to build classes when we need to."
   ]
  }
 ],
 "metadata": {
  "kernelspec": {
   "display_name": "Python 3 (ipykernel)",
   "language": "python",
   "name": "python3"
  },
  "language_info": {
   "codemirror_mode": {
    "name": "ipython",
    "version": 3
   },
   "file_extension": ".py",
   "mimetype": "text/x-python",
   "name": "python",
   "nbconvert_exporter": "python",
   "pygments_lexer": "ipython3",
   "version": "3.11.7"
  }
 },
 "nbformat": 4,
 "nbformat_minor": 4
}
